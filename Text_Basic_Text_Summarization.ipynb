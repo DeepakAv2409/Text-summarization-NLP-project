{
 "cells": [
  {
   "cell_type": "markdown",
   "metadata": {
    "id": "OFEj3_I26VxZ"
   },
   "source": [
    "### Deepak AV\n",
    "### Natural Langauge Processing - Text Summarization "
   ]
  },
  {
   "cell_type": "code",
   "execution_count": 1,
   "metadata": {
    "id": "nRej4-q56U7n"
   },
   "outputs": [],
   "source": [
    "#importing Necessary libraries \n",
    "import nltk\n",
    "import re\n",
    "from nltk.corpus import stopwords\n",
    "from nltk.tokenize import word_tokenize\n",
    "from nltk.probability import FreqDist"
   ]
  },
  {
   "cell_type": "code",
   "execution_count": 2,
   "metadata": {
    "id": "rCGQbgT56VDZ"
   },
   "outputs": [],
   "source": [
    "#Inputing Data\n",
    "text = \"This is a sample text for summarization. It has multiple sentences and is used to demonstrate the text summarization process. The process of text summarization involves identifying the important information from the text and condensing it into a shorter and more concise form. It is a useful tool for quickly understanding the main points of a document or article. There are various methods for text summarization, including extractive and abstractive approaches. The extractive approach involves selecting important sentences or phrases from the original text and presenting them in a summary. The abstractive approach involves creating a summary by generating new text that is similar to the original text. Both approaches have their own advantages and limitations, and the appropriate method depends on the specific needs of the task.\""
   ]
  },
  {
   "cell_type": "code",
   "execution_count": 3,
   "metadata": {
    "id": "C9-casvg6VGs"
   },
   "outputs": [
    {
     "name": "stderr",
     "output_type": "stream",
     "text": [
      "C:\\Users\\yogap\\AppData\\Local\\Temp\\ipykernel_16008\\868112600.py:2: FutureWarning: Possible nested set at position 1\n",
      "  text = re.sub(r'[[0-9]*]', ' ', text)\n"
     ]
    }
   ],
   "source": [
    "#preprocessing the text\n",
    "text = re.sub(r'[[0-9]*]', ' ', text)\n",
    "text = re.sub(r'\\s+', ' ', text)"
   ]
  },
  {
   "cell_type": "code",
   "execution_count": 4,
   "metadata": {
    "colab": {
     "base_uri": "https://localhost:8080/"
    },
    "id": "LisbFsYC6zge",
    "outputId": "cfc2ec5c-5ede-49c3-b85d-c7c870d6895a"
   },
   "outputs": [
    {
     "name": "stderr",
     "output_type": "stream",
     "text": [
      "[nltk_data] Downloading package punkt to\n",
      "[nltk_data]     C:\\Users\\yogap\\AppData\\Roaming\\nltk_data...\n",
      "[nltk_data]   Unzipping tokenizers\\punkt.zip.\n"
     ]
    },
    {
     "data": {
      "text/plain": [
       "True"
      ]
     },
     "execution_count": 4,
     "metadata": {},
     "output_type": "execute_result"
    }
   ],
   "source": [
    "nltk.download('punkt')"
   ]
  },
  {
   "cell_type": "code",
   "execution_count": 5,
   "metadata": {
    "colab": {
     "base_uri": "https://localhost:8080/"
    },
    "id": "vuzJ4GiY6VJn",
    "outputId": "32f953ae-f4ef-45c2-d4c6-3d078d42d350"
   },
   "outputs": [
    {
     "data": {
      "text/plain": [
       "['This is a sample text for summarization.',\n",
       " 'It has multiple sentences and is used to demonstrate the text summarization process.',\n",
       " 'The process of text summarization involves identifying the important information from the text and condensing it into a shorter and more concise form.',\n",
       " 'It is a useful tool for quickly understanding the main points of a document or article.',\n",
       " 'There are various methods for text summarization, including extractive and abstractive approaches.',\n",
       " 'The extractive approach involves selecting important sentences or phrases from the original text and presenting them in a summary.',\n",
       " 'The abstractive approach involves creating a summary by generating new text that is similar to the original text.',\n",
       " 'Both approaches have their own advantages and limitations, and the appropriate method depends on the specific needs of the task.']"
      ]
     },
     "execution_count": 5,
     "metadata": {},
     "output_type": "execute_result"
    }
   ],
   "source": [
    "#tokenizing the text\n",
    "sentences = nltk.sent_tokenize(text)\n",
    "sentences"
   ]
  },
  {
   "cell_type": "code",
   "execution_count": 6,
   "metadata": {
    "colab": {
     "base_uri": "https://localhost:8080/"
    },
    "id": "pyAP9cTz6qGg",
    "outputId": "3d0d98b0-652c-419b-e4f6-200281463e57"
   },
   "outputs": [
    {
     "data": {
      "text/plain": [
       "FreqDist({'the': 9, 'text': 8, '.': 8, 'and': 7, 'a': 6, 'is': 4, 'summarization': 4, 'for': 3, 'The': 3, 'of': 3, ...})"
      ]
     },
     "execution_count": 6,
     "metadata": {},
     "output_type": "execute_result"
    }
   ],
   "source": [
    "#creating a frequency distribution of the words\n",
    "word_freq = FreqDist(word_tokenize(text))\n",
    "word_freq "
   ]
  },
  {
   "cell_type": "code",
   "execution_count": 7,
   "metadata": {
    "colab": {
     "base_uri": "https://localhost:8080/"
    },
    "id": "du7sPwu56qJA",
    "outputId": "bb567b49-f168-4429-dacd-456e39dad690"
   },
   "outputs": [
    {
     "data": {
      "text/plain": [
       "[('the', 9),\n",
       " ('text', 8),\n",
       " ('.', 8),\n",
       " ('and', 7),\n",
       " ('a', 6),\n",
       " ('is', 4),\n",
       " ('summarization', 4),\n",
       " ('for', 3),\n",
       " ('The', 3),\n",
       " ('of', 3),\n",
       " ('involves', 3),\n",
       " ('It', 2),\n",
       " ('sentences', 2),\n",
       " ('to', 2),\n",
       " ('process', 2),\n",
       " ('important', 2),\n",
       " ('from', 2),\n",
       " ('or', 2),\n",
       " (',', 2),\n",
       " ('extractive', 2)]"
      ]
     },
     "execution_count": 7,
     "metadata": {},
     "output_type": "execute_result"
    }
   ],
   "source": [
    "#selecting the most frequent words\n",
    "most_freq = word_freq.most_common(20)\n",
    "most_freq"
   ]
  },
  {
   "cell_type": "code",
   "execution_count": 8,
   "metadata": {
    "colab": {
     "base_uri": "https://localhost:8080/"
    },
    "id": "jJRoZaz66qMl",
    "outputId": "cbc48963-4394-4821-ba7c-cb49a45c1dbd",
    "scrolled": true
   },
   "outputs": [
    {
     "data": {
      "text/plain": [
       "['the',\n",
       " 'text',\n",
       " '.',\n",
       " 'and',\n",
       " 'a',\n",
       " 'is',\n",
       " 'summarization',\n",
       " 'for',\n",
       " 'The',\n",
       " 'of',\n",
       " 'involves',\n",
       " 'It',\n",
       " 'sentences',\n",
       " 'to',\n",
       " 'process',\n",
       " 'important',\n",
       " 'from',\n",
       " 'or',\n",
       " ',',\n",
       " 'extractive']"
      ]
     },
     "execution_count": 8,
     "metadata": {},
     "output_type": "execute_result"
    }
   ],
   "source": [
    "#creating a list of the most frequent words\n",
    "most_freq_words = [word[0] for word in most_freq]\n",
    "most_freq_words"
   ]
  },
  {
   "cell_type": "code",
   "execution_count": 9,
   "metadata": {
    "id": "jEwb1MxV6-1L"
   },
   "outputs": [],
   "source": [
    "#creating a list of the sentences containing the most frequent words\n",
    "important_sentences = []\n",
    "for sentence in sentences:\n",
    "  for word in most_freq_words:\n",
    "    if word in sentence:\n",
    "      important_sentences.append(sentence)\n",
    "      break"
   ]
  },
  {
   "cell_type": "code",
   "execution_count": 10,
   "metadata": {
    "colab": {
     "base_uri": "https://localhost:8080/"
    },
    "id": "YdDFhBEd6-3u",
    "outputId": "ea589c71-f8a6-48c5-d882-6755050f3392",
    "scrolled": true
   },
   "outputs": [
    {
     "name": "stdout",
     "output_type": "stream",
     "text": [
      "This is a sample text for summarization. It has multiple sentences and is used to demonstrate the text summarization process. The process of text summarization involves identifying the important information from the text and condensing it into a shorter and more concise form. It is a useful tool for quickly understanding the main points of a document or article. There are various methods for text summarization, including extractive and abstractive approaches. The extractive approach involves selecting important sentences or phrases from the original text and presenting them in a summary. The abstractive approach involves creating a summary by generating new text that is similar to the original text. Both approaches have their own advantages and limitations, and the appropriate method depends on the specific needs of the task.\n"
     ]
    }
   ],
   "source": [
    "#creating the summary\n",
    "summary = \" \".join(important_sentences)\n",
    "print(summary)"
   ]
  },
  {
   "cell_type": "code",
   "execution_count": null,
   "metadata": {
    "id": "hUDT42-U6-7T"
   },
   "outputs": [],
   "source": []
  }
 ],
 "metadata": {
  "colab": {
   "provenance": []
  },
  "kernelspec": {
   "display_name": "Python 3 (ipykernel)",
   "language": "python",
   "name": "python3"
  },
  "language_info": {
   "codemirror_mode": {
    "name": "ipython",
    "version": 3
   },
   "file_extension": ".py",
   "mimetype": "text/x-python",
   "name": "python",
   "nbconvert_exporter": "python",
   "pygments_lexer": "ipython3",
   "version": "3.9.12"
  }
 },
 "nbformat": 4,
 "nbformat_minor": 1
}
